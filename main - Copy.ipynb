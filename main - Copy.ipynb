{
 "cells": [
  {
   "cell_type": "code",
   "execution_count": 14,
   "metadata": {},
   "outputs": [],
   "source": [
    "import pandas as pd\n",
    "import numpy as np\n",
    "from sklearn.model_selection import train_test_split\n",
    "from sklearn.preprocessing import StandardScaler, LabelEncoder\n",
    "import tensorflow as tf\n",
    "from tensorflow.keras import Sequential\n",
    "from tensorflow.keras.layers import Conv1D, Dense, Dropout, BatchNormalization, Flatten\n",
    "from tensorflow.keras.utils import to_categorical\n",
    "from heapq import merge\n"
   ]
  },
  {
   "cell_type": "code",
   "execution_count": 5,
   "metadata": {},
   "outputs": [],
   "source": [
    "# Load all the processed datasets\n",
    "file_paths = {\n",
    "\"medications\": \"ProcessedData/processed_medications.csv\",\n",
    "\"observations\": \"ProcessedData/processed_observations.csv\",\n",
    "\"patients\": \"ProcessedData/processed_patients.csv\",\n",
    "\"allergies\": \"ProcessedData/processed_allergies.csv\",\n",
    "\"careplans\": \"ProcessedData/processed_careplans.csv\",\n",
    "\"conditions\": \"ProcessedData/processed_conditions.csv\",\n",
    "\"immunizations\": \"ProcessedData/processed_immunizations.csv\",\n",
    "}"
   ]
  },
  {
   "cell_type": "code",
   "execution_count": 15,
   "metadata": {},
   "outputs": [],
   "source": [
    "\n",
    "def load_and_merge_data(file_paths):\n",
    "    # Read and standardize identifier columns to \"id\"\n",
    "    data_frames = {}\n",
    "    for key, path in file_paths.items():\n",
    "        df = pd.read_csv(path)\n",
    "        id_columns = [col for col in df.columns if \"PATIENT\" in col or \"Id\" in col or \"id\" in col]\n",
    "        if id_columns:\n",
    "            df.rename(columns={id_columns[0]: \"id\"}, inplace=True)\n",
    "        # Add source-specific suffixes to columns (except \"id\")\n",
    "        df.columns = [f\"{col}_{key}\" if col != \"id\" else \"id\" for col in df.columns]\n",
    "        data_frames[key] = df\n",
    "\n",
    "    # Merge all dataframes on the 'id' column\n",
    "    merged_data = data_frames[\"patients\"]\n",
    "    for key, df in data_frames.items():\n",
    "        if key != \"patients\":\n",
    "            merged_data = pd.merge(merged_data, df, on=\"id\", how=\"left\")\n",
    "\n",
    "    return merged_data\n",
    "\n",
    "\n",
    "def preprocess_data(data):\n",
    "    # Fill missing values\n",
    "    data.fillna(0, inplace=True)\n",
    "\n",
    "    # Normalize numerical columns\n",
    "    numerical_cols = data.select_dtypes(include=[np.number]).columns\n",
    "    scaler = StandardScaler()\n",
    "    data[numerical_cols] = scaler.fit_transform(data[numerical_cols])\n",
    "\n",
    "    # Encode categorical columns\n",
    "    categorical_cols = data.select_dtypes(include=['object', 'category']).columns\n",
    "    for col in categorical_cols:\n",
    "        # Convert all values to strings to handle mixed types\n",
    "        data[col] = data[col].astype(str)\n",
    "        encoder = LabelEncoder()\n",
    "        data[col] = encoder.fit_transform(data[col])\n",
    "\n",
    "    return data\n",
    "\n",
    "def create_labels(data):\n",
    "    labels = []\n",
    "    for _, row in data.iterrows():\n",
    "        if row[\"DECEASED_patients\"] == 1:\n",
    "            if \"COVID-19_careplans\" in row and row[\"COVID-19_careplans\"] == 1:\n",
    "                labels.append(0)  # Had COVID, died\n",
    "            else:\n",
    "                labels.append(1)  # Didn't have COVID, died\n",
    "        else:\n",
    "            if \"COVID-19_careplans\" in row and row[\"COVID-19_careplans\"] == 1:\n",
    "                labels.append(3)  # Had COVID, lived\n",
    "            else:\n",
    "                labels.append(2)  # Didn't have COVID, lived\n",
    "    return np.array(labels)\n",
    "\n",
    "def build_cnn_model(input_shape, num_classes):\n",
    "    model = Sequential([\n",
    "        Conv1D(64, kernel_size=3, activation='relu', input_shape=input_shape),\n",
    "        BatchNormalization(),\n",
    "        Dropout(0.3),\n",
    "        Conv1D(128, kernel_size=3, activation='relu'),\n",
    "        BatchNormalization(),\n",
    "        Dropout(0.3),\n",
    "        Flatten(),\n",
    "        Dense(128, activation='relu'),\n",
    "        Dropout(0.5),\n",
    "        Dense(num_classes, activation='softmax')\n",
    "    ])\n",
    "    model.compile(optimizer='adam', loss='categorical_crossentropy', metrics=['accuracy'])\n",
    "    return model\n",
    "\n",
    "def train_and_evaluate_model(merged_data):\n",
    "    # Preprocess the data\n",
    "    processed_data = preprocess_data(merged_data)\n",
    "    labels = create_labels(processed_data)\n",
    "    processed_data.drop(columns=[\"DECEASED\", \"COVID-19_careplans\"], inplace=True, errors='ignore')\n",
    "\n",
    "    # Train-test split\n",
    "    X_train, X_test, y_train, y_test = train_test_split(processed_data, labels, test_size=0.2, random_state=42)\n",
    "    y_train, y_test = to_categorical(y_train), to_categorical(y_test)\n",
    "\n",
    "    # Build the CNN model\n",
    "    input_shape = (X_train.shape[1], 1)\n",
    "    model = build_cnn_model(input_shape, y_train.shape[1])\n",
    "\n",
    "    # Train the model\n",
    "    model.fit(X_train.values[..., np.newaxis], y_train, epochs=10, batch_size=32, validation_split=0.2)\n",
    "\n",
    "    # Evaluate the model\n",
    "    loss, accuracy = model.evaluate(X_test.values[..., np.newaxis], y_test)\n",
    "    print(f\"Test Loss: {loss}, Test Accuracy: {accuracy}\")\n",
    "\n",
    "    return model"
   ]
  },
  {
   "cell_type": "code",
   "execution_count": null,
   "metadata": {},
   "outputs": [
    {
     "name": "stderr",
     "output_type": "stream",
     "text": [
      "c:\\Users\\sagor\\anaconda3\\lib\\site-packages\\IPython\\core\\interactiveshell.py:3357: DtypeWarning: Columns (3,13,57,70,84,132,162,181) have mixed types.Specify dtype option on import or set low_memory=False.\n",
      "  if (await self.run_code(code, result,  async_=asy)):\n"
     ]
    },
    {
     "name": "stdout",
     "output_type": "stream",
     "text": [
      "Epoch 1/10\n",
      "247/247 [==============================] - 61s 236ms/step - loss: 0.0084 - accuracy: 0.9977 - val_loss: 0.0000e+00 - val_accuracy: 1.0000\n",
      "Epoch 2/10\n",
      " 39/247 [===>..........................] - ETA: 48s - loss: 0.0000e+00 - accuracy: 1.0000"
     ]
    }
   ],
   "source": [
    "# Load and merge the datasets\n",
    "merged_data = load_and_merge_data(file_paths)\n",
    "\n",
    "# Train and evaluate the model\n",
    "trained_model = train_and_evaluate_model(merged_data)"
   ]
  }
 ],
 "metadata": {
  "kernelspec": {
   "display_name": "base",
   "language": "python",
   "name": "python3"
  },
  "language_info": {
   "codemirror_mode": {
    "name": "ipython",
    "version": 3
   },
   "file_extension": ".py",
   "mimetype": "text/x-python",
   "name": "python",
   "nbconvert_exporter": "python",
   "pygments_lexer": "ipython3",
   "version": "3.8.8"
  }
 },
 "nbformat": 4,
 "nbformat_minor": 2
}
