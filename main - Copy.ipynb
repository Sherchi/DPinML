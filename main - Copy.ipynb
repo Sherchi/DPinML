{
 "cells": [
  {
   "cell_type": "code",
   "execution_count": 37,
   "metadata": {},
   "outputs": [],
   "source": [
    "import pandas as pd\n",
    "import numpy as np\n",
    "from sklearn.model_selection import train_test_split\n",
    "from sklearn.preprocessing import StandardScaler, LabelEncoder\n",
    "import tensorflow as tf\n",
    "from tensorflow.keras import Sequential\n",
    "from tensorflow.keras.layers import Conv1D, Dense, Dropout, BatchNormalization, Flatten\n",
    "from tensorflow.keras.utils import to_categorical\n",
    "from sklearn.metrics import classification_report, confusion_matrix\n",
    "import matplotlib.pyplot as plt\n",
    "import seaborn as sns"
   ]
  },
  {
   "cell_type": "code",
   "execution_count": 5,
   "metadata": {},
   "outputs": [],
   "source": [
    "# Load all the processed datasets\n",
    "file_paths = {\n",
    "\"medications\": \"ProcessedData/processed_medications.csv\",\n",
    "\"observations\": \"ProcessedData/processed_observations.csv\",\n",
    "\"patients\": \"ProcessedData/processed_patients.csv\",\n",
    "\"allergies\": \"ProcessedData/processed_allergies.csv\",\n",
    "\"careplans\": \"ProcessedData/processed_careplans.csv\",\n",
    "\"conditions\": \"ProcessedData/processed_conditions.csv\",\n",
    "\"immunizations\": \"ProcessedData/processed_immunizations.csv\",\n",
    "}"
   ]
  },
  {
   "cell_type": "code",
   "execution_count": 54,
   "metadata": {},
   "outputs": [],
   "source": [
    "\n",
    "def load_and_merge_data(file_paths):\n",
    "    # Read and standardize identifier columns to \"id\"\n",
    "    data_frames = {}\n",
    "    for key, path in file_paths.items():\n",
    "        df = pd.read_csv(path)\n",
    "        id_columns = [col for col in df.columns if \"PATIENT\" in col or \"Id\" in col or \"id\" in col]\n",
    "        if id_columns:\n",
    "            df.rename(columns={id_columns[0]: \"id\"}, inplace=True)\n",
    "        # Add source-specific suffixes to columns (except \"id\")\n",
    "        df.columns = [f\"{col}_{key}\" if col != \"id\" else \"id\" for col in df.columns]\n",
    "        data_frames[key] = df\n",
    "\n",
    "    # Print initial row counts\n",
    "    for key, df in data_frames.items():\n",
    "        print(f\"Rows in {key}: {len(df)}\")\n",
    "\n",
    "    # Merge all dataframes on the 'id' column\n",
    "    merged_data = data_frames[\"patients\"]\n",
    "    for key, df in data_frames.items():\n",
    "        if key != \"patients\":\n",
    "            merged_data = pd.merge(merged_data, df, on=\"id\", how=\"left\")\n",
    "\n",
    "    # Print final row count\n",
    "    print(f\"Rows in final merged dataset: {len(merged_data)}\")\n",
    "\n",
    "    # Remove unnecessary columns used for label creation\n",
    "    columns_to_remove = ['REASONDESCRIPTION_COVID-19_medications', 'COVID-19_conditions']\n",
    "    columns_in_data = [col for col in columns_to_remove if col in merged_data.columns]\n",
    "    if columns_in_data:\n",
    "        merged_data.drop(columns=columns_in_data, inplace=True)\n",
    "        print(f\"Removed columns: {columns_in_data}\")\n",
    "\n",
    "    return merged_data\n",
    "\n",
    "def preprocess_data(data):\n",
    "    # Fill missing values\n",
    "    data.fillna(0, inplace=True)\n",
    "\n",
    "    # Normalize numerical columns\n",
    "    numerical_cols = data.select_dtypes(include=[np.number]).columns\n",
    "    scaler = StandardScaler()\n",
    "    data[numerical_cols] = scaler.fit_transform(data[numerical_cols])\n",
    "\n",
    "    # Encode categorical columns\n",
    "    categorical_cols = data.select_dtypes(include=['object', 'category']).columns\n",
    "    for col in categorical_cols:\n",
    "        # Convert all values to strings to handle mixed types\n",
    "        data[col] = data[col].astype(str)\n",
    "        encoder = LabelEncoder()\n",
    "        data[col] = encoder.fit_transform(data[col])\n",
    "\n",
    "    return data\n",
    "\n",
    "def extract_high_correlation_features(data, target_column, threshold=0.9):\n",
    "    # Calculate correlation matrix\n",
    "    correlation_matrix = data.corr()\n",
    "    # Extract features with correlation above the threshold\n",
    "    high_corr_features = correlation_matrix[target_column][correlation_matrix[target_column] > threshold].index.tolist()\n",
    "    return high_corr_features\n",
    "\n",
    "def create_labels(data):\n",
    "    labels = []\n",
    "    for _, row in data.iterrows():\n",
    "        if row[\"DECEASED_patients\"] == 1:\n",
    "            if \"COVID-19_careplans\" in row and row[\"COVID-19_careplans\"] == 1:\n",
    "                labels.append(0)  # Had COVID, died\n",
    "            else:\n",
    "                labels.append(1)  # Didn't have COVID, died\n",
    "        else:\n",
    "            if \"COVID-19_careplans\" in row and row[\"COVID-19_careplans\"] == 1:\n",
    "                labels.append(3)  # Had COVID, lived\n",
    "            else:\n",
    "                labels.append(2)  # Didn't have COVID, lived\n",
    "    return np.array(labels)\n",
    "\n",
    "def build_cnn_model(input_shape, num_classes):\n",
    "    model = Sequential([\n",
    "        Conv1D(64, kernel_size=3, activation='relu', input_shape=input_shape),\n",
    "        BatchNormalization(),\n",
    "        Dropout(0.3),\n",
    "        Conv1D(128, kernel_size=3, activation='relu'),\n",
    "        BatchNormalization(),\n",
    "        Dropout(0.3),\n",
    "        Flatten(),\n",
    "        Dense(128, activation='relu'),\n",
    "        Dropout(0.5),\n",
    "        Dense(num_classes, activation='softmax')\n",
    "    ])\n",
    "    model.compile(optimizer='adam', loss='categorical_crossentropy', metrics=['accuracy'])\n",
    "    return model\n",
    "\n",
    "def train_and_evaluate_model(merged_data):\n",
    "    # Preprocess the data\n",
    "    processed_data = preprocess_data(merged_data)\n",
    "    labels = create_labels(processed_data)\n",
    "    processed_data.drop(columns=[\"DECEASED_patients\", \"COVID-19_careplans\"], inplace=True, errors='ignore')\n",
    "\n",
    "    # Train-test split\n",
    "    X_train, X_test, y_train, y_test = train_test_split(processed_data, labels, test_size=0.2, random_state=42)\n",
    "    y_train, y_test = to_categorical(y_train), to_categorical(y_test)\n",
    "\n",
    "    # Build the CNN model\n",
    "    input_shape = (X_train.shape[1], 1)\n",
    "    model = build_cnn_model(input_shape, y_train.shape[1])\n",
    "\n",
    "    # Train the model\n",
    "    model.fit(X_train.values[..., np.newaxis], y_train, epochs=1, batch_size=32, validation_split=0.2)\n",
    "\n",
    "    # Evaluate the model\n",
    "    loss, accuracy = model.evaluate(X_test.values[..., np.newaxis], y_test)\n",
    "    print(f\"Test Loss: {loss}, Test Accuracy: {accuracy}\")\n",
    "\n",
    "    # Predictions\n",
    "    predictions = model.predict(X_test.values[..., np.newaxis])\n",
    "    predicted_classes = np.argmax(predictions, axis=1)\n",
    "    true_classes = np.argmax(y_test, axis=1)\n",
    "\n",
    "    # Classification report\n",
    "    print(\"Classification Report:\")\n",
    "    print(classification_report(true_classes, predicted_classes))\n",
    "\n",
    "    # Confusion matrix\n",
    "    conf_matrix = confusion_matrix(true_classes, predicted_classes)\n",
    "    plt.figure(figsize=(10, 8))\n",
    "    sns.heatmap(conf_matrix, annot=True, fmt='d', cmap='Blues', xticklabels=[\"COVID+Died\", \"NoCOVID+Died\", \"NoCOVID+Lived\", \"COVID+Lived\"],\n",
    "                yticklabels=[\"COVID+Died\", \"NoCOVID+Died\", \"NoCOVID+Lived\", \"COVID+Lived\"])\n",
    "    plt.title(\"Confusion Matrix\")\n",
    "    plt.ylabel(\"True Label\")\n",
    "    plt.xlabel(\"Predicted Label\")\n",
    "    plt.show()\n",
    "\n",
    "    return model"
   ]
  },
  {
   "cell_type": "code",
   "execution_count": 55,
   "metadata": {},
   "outputs": [
    {
     "name": "stderr",
     "output_type": "stream",
     "text": [
      "c:\\Users\\sagor\\anaconda3\\lib\\site-packages\\IPython\\core\\interactiveshell.py:3357: DtypeWarning: Columns (3,13,57,70,84,132,162,181) have mixed types.Specify dtype option on import or set low_memory=False.\n",
      "  if (await self.run_code(code, result,  async_=asy)):\n"
     ]
    },
    {
     "name": "stdout",
     "output_type": "stream",
     "text": [
      "Rows in medications: 9566\n",
      "Rows in observations: 12352\n",
      "Rows in patients: 12352\n",
      "Rows in allergies: 1528\n",
      "Rows in careplans: 11771\n",
      "Rows in conditions: 12165\n",
      "Rows in immunizations: 10376\n",
      "Rows in final merged dataset: 12352\n",
      "Removed columns: ['REASONDESCRIPTION_COVID-19_medications', 'COVID-19_conditions']\n"
     ]
    }
   ],
   "source": [
    "# Load and merge the datasets\n",
    "merged_data = load_and_merge_data(file_paths)\n",
    "\n",
    "# Train and evaluate the model\n"
   ]
  },
  {
   "cell_type": "code",
   "execution_count": 56,
   "metadata": {},
   "outputs": [
    {
     "name": "stdout",
     "output_type": "stream",
     "text": [
      "247/247 [==============================] - 58s 227ms/step - loss: 0.0202 - accuracy: 0.9961 - val_loss: 0.0000e+00 - val_accuracy: 1.0000\n",
      "78/78 [==============================] - 2s 22ms/step - loss: 0.0000e+00 - accuracy: 1.0000\n",
      "Test Loss: 0.0, Test Accuracy: 1.0\n",
      "78/78 [==============================] - 2s 23ms/step\n",
      "Classification Report:\n",
      "              precision    recall  f1-score   support\n",
      "\n",
      "           2       1.00      1.00      1.00      2471\n",
      "\n",
      "    accuracy                           1.00      2471\n",
      "   macro avg       1.00      1.00      1.00      2471\n",
      "weighted avg       1.00      1.00      1.00      2471\n",
      "\n"
     ]
    },
    {
     "data": {
      "image/png": "[encoded data removed]",
      "text/plain": [
       "<Figure size 720x576 with 2 Axes>"
      ]
     },
     "metadata": {
      "needs_background": "light"
     },
     "output_type": "display_data"
    }
   ],
   "source": [
    "trained_model = train_and_evaluate_model(merged_data)"
   ]
  },
  {
   "cell_type": "code",
   "execution_count": 57,
   "metadata": {},
   "outputs": [
    {
     "ename": "KeyError",
     "evalue": "'COVID-19_careplans'",
     "output_type": "error",
     "traceback": [
      "\u001b[1;31m---------------------------------------------------------------------------\u001b[0m",
      "\u001b[1;31mKeyError\u001b[0m                                  Traceback (most recent call last)",
      "\u001b[1;32mc:\\Users\\sagor\\anaconda3\\lib\\site-packages\\pandas\\core\\indexes\\base.py\u001b[0m in \u001b[0;36mget_loc\u001b[1;34m(self, key, method, tolerance)\u001b[0m\n\u001b[0;32m   3079\u001b[0m             \u001b[1;32mtry\u001b[0m\u001b[1;33m:\u001b[0m\u001b[1;33m\u001b[0m\u001b[1;33m\u001b[0m\u001b[0m\n\u001b[1;32m-> 3080\u001b[1;33m                 \u001b[1;32mreturn\u001b[0m \u001b[0mself\u001b[0m\u001b[1;33m.\u001b[0m\u001b[0m_engine\u001b[0m\u001b[1;33m.\u001b[0m\u001b[0mget_loc\u001b[0m\u001b[1;33m(\u001b[0m\u001b[0mcasted_key\u001b[0m\u001b[1;33m)\u001b[0m\u001b[1;33m\u001b[0m\u001b[1;33m\u001b[0m\u001b[0m\n\u001b[0m\u001b[0;32m   3081\u001b[0m             \u001b[1;32mexcept\u001b[0m \u001b[0mKeyError\u001b[0m \u001b[1;32mas\u001b[0m \u001b[0merr\u001b[0m\u001b[1;33m:\u001b[0m\u001b[1;33m\u001b[0m\u001b[1;33m\u001b[0m\u001b[0m\n",
      "\u001b[1;32mpandas\\_libs\\index.pyx\u001b[0m in \u001b[0;36mpandas._libs.index.IndexEngine.get_loc\u001b[1;34m()\u001b[0m\n",
      "\u001b[1;32mpandas\\_libs\\index.pyx\u001b[0m in \u001b[0;36mpandas._libs.index.IndexEngine.get_loc\u001b[1;34m()\u001b[0m\n",
      "\u001b[1;32mpandas\\_libs\\hashtable_class_helper.pxi\u001b[0m in \u001b[0;36mpandas._libs.hashtable.PyObjectHashTable.get_item\u001b[1;34m()\u001b[0m\n",
      "\u001b[1;32mpandas\\_libs\\hashtable_class_helper.pxi\u001b[0m in \u001b[0;36mpandas._libs.hashtable.PyObjectHashTable.get_item\u001b[1;34m()\u001b[0m\n",
      "\u001b[1;31mKeyError\u001b[0m: 'COVID-19_careplans'",
      "\nThe above exception was the direct cause of the following exception:\n",
      "\u001b[1;31mKeyError\u001b[0m                                  Traceback (most recent call last)",
      "\u001b[1;32m<ipython-input-57-dafc6b81ba88>\u001b[0m in \u001b[0;36m<module>\u001b[1;34m\u001b[0m\n\u001b[0;32m      8\u001b[0m \u001b[1;33m\u001b[0m\u001b[0m\n\u001b[0;32m      9\u001b[0m \u001b[1;31m# Extract high correlation features\u001b[0m\u001b[1;33m\u001b[0m\u001b[1;33m\u001b[0m\u001b[1;33m\u001b[0m\u001b[0m\n\u001b[1;32m---> 10\u001b[1;33m \u001b[0mhigh_corr_features\u001b[0m \u001b[1;33m=\u001b[0m \u001b[0mextract_high_correlation_features\u001b[0m\u001b[1;33m(\u001b[0m\u001b[0mmerged_data\u001b[0m\u001b[1;33m,\u001b[0m \u001b[0mtarget_column\u001b[0m\u001b[1;33m=\u001b[0m\u001b[1;34m'COVID-19_careplans'\u001b[0m\u001b[1;33m,\u001b[0m \u001b[0mthreshold\u001b[0m\u001b[1;33m=\u001b[0m\u001b[1;36m1.0\u001b[0m\u001b[1;33m)\u001b[0m\u001b[1;33m\u001b[0m\u001b[1;33m\u001b[0m\u001b[0m\n\u001b[0m\u001b[0;32m     11\u001b[0m \u001b[0mprint\u001b[0m\u001b[1;33m(\u001b[0m\u001b[1;34m\"Highly correlated features with COVID-19_careplans:\"\u001b[0m\u001b[1;33m,\u001b[0m \u001b[0mhigh_corr_features\u001b[0m\u001b[1;33m)\u001b[0m\u001b[1;33m\u001b[0m\u001b[1;33m\u001b[0m\u001b[0m\n",
      "\u001b[1;32m<ipython-input-57-dafc6b81ba88>\u001b[0m in \u001b[0;36mextract_high_correlation_features\u001b[1;34m(data, target_column, threshold)\u001b[0m\n\u001b[0;32m      3\u001b[0m     \u001b[0mcorrelation_matrix\u001b[0m \u001b[1;33m=\u001b[0m \u001b[0mdata\u001b[0m\u001b[1;33m.\u001b[0m\u001b[0mcorr\u001b[0m\u001b[1;33m(\u001b[0m\u001b[1;33m)\u001b[0m\u001b[1;33m\u001b[0m\u001b[1;33m\u001b[0m\u001b[0m\n\u001b[0;32m      4\u001b[0m     \u001b[1;31m# Extract features with correlation above the threshold\u001b[0m\u001b[1;33m\u001b[0m\u001b[1;33m\u001b[0m\u001b[1;33m\u001b[0m\u001b[0m\n\u001b[1;32m----> 5\u001b[1;33m     \u001b[0mhigh_corr_features\u001b[0m \u001b[1;33m=\u001b[0m \u001b[0mcorrelation_matrix\u001b[0m\u001b[1;33m[\u001b[0m\u001b[0mtarget_column\u001b[0m\u001b[1;33m]\u001b[0m\u001b[1;33m[\u001b[0m\u001b[0mcorrelation_matrix\u001b[0m\u001b[1;33m[\u001b[0m\u001b[0mtarget_column\u001b[0m\u001b[1;33m]\u001b[0m \u001b[1;33m>=\u001b[0m \u001b[0mthreshold\u001b[0m\u001b[1;33m]\u001b[0m\u001b[1;33m.\u001b[0m\u001b[0mindex\u001b[0m\u001b[1;33m.\u001b[0m\u001b[0mtolist\u001b[0m\u001b[1;33m(\u001b[0m\u001b[1;33m)\u001b[0m\u001b[1;33m\u001b[0m\u001b[1;33m\u001b[0m\u001b[0m\n\u001b[0m\u001b[0;32m      6\u001b[0m     \u001b[1;32mreturn\u001b[0m \u001b[0mhigh_corr_features\u001b[0m\u001b[1;33m\u001b[0m\u001b[1;33m\u001b[0m\u001b[0m\n\u001b[0;32m      7\u001b[0m \u001b[1;33m\u001b[0m\u001b[0m\n",
      "\u001b[1;32mc:\\Users\\sagor\\anaconda3\\lib\\site-packages\\pandas\\core\\frame.py\u001b[0m in \u001b[0;36m__getitem__\u001b[1;34m(self, key)\u001b[0m\n\u001b[0;32m   3022\u001b[0m             \u001b[1;32mif\u001b[0m \u001b[0mself\u001b[0m\u001b[1;33m.\u001b[0m\u001b[0mcolumns\u001b[0m\u001b[1;33m.\u001b[0m\u001b[0mnlevels\u001b[0m \u001b[1;33m>\u001b[0m \u001b[1;36m1\u001b[0m\u001b[1;33m:\u001b[0m\u001b[1;33m\u001b[0m\u001b[1;33m\u001b[0m\u001b[0m\n\u001b[0;32m   3023\u001b[0m                 \u001b[1;32mreturn\u001b[0m \u001b[0mself\u001b[0m\u001b[1;33m.\u001b[0m\u001b[0m_getitem_multilevel\u001b[0m\u001b[1;33m(\u001b[0m\u001b[0mkey\u001b[0m\u001b[1;33m)\u001b[0m\u001b[1;33m\u001b[0m\u001b[1;33m\u001b[0m\u001b[0m\n\u001b[1;32m-> 3024\u001b[1;33m             \u001b[0mindexer\u001b[0m \u001b[1;33m=\u001b[0m \u001b[0mself\u001b[0m\u001b[1;33m.\u001b[0m\u001b[0mcolumns\u001b[0m\u001b[1;33m.\u001b[0m\u001b[0mget_loc\u001b[0m\u001b[1;33m(\u001b[0m\u001b[0mkey\u001b[0m\u001b[1;33m)\u001b[0m\u001b[1;33m\u001b[0m\u001b[1;33m\u001b[0m\u001b[0m\n\u001b[0m\u001b[0;32m   3025\u001b[0m             \u001b[1;32mif\u001b[0m \u001b[0mis_integer\u001b[0m\u001b[1;33m(\u001b[0m\u001b[0mindexer\u001b[0m\u001b[1;33m)\u001b[0m\u001b[1;33m:\u001b[0m\u001b[1;33m\u001b[0m\u001b[1;33m\u001b[0m\u001b[0m\n\u001b[0;32m   3026\u001b[0m                 \u001b[0mindexer\u001b[0m \u001b[1;33m=\u001b[0m \u001b[1;33m[\u001b[0m\u001b[0mindexer\u001b[0m\u001b[1;33m]\u001b[0m\u001b[1;33m\u001b[0m\u001b[1;33m\u001b[0m\u001b[0m\n",
      "\u001b[1;32mc:\\Users\\sagor\\anaconda3\\lib\\site-packages\\pandas\\core\\indexes\\base.py\u001b[0m in \u001b[0;36mget_loc\u001b[1;34m(self, key, method, tolerance)\u001b[0m\n\u001b[0;32m   3080\u001b[0m                 \u001b[1;32mreturn\u001b[0m \u001b[0mself\u001b[0m\u001b[1;33m.\u001b[0m\u001b[0m_engine\u001b[0m\u001b[1;33m.\u001b[0m\u001b[0mget_loc\u001b[0m\u001b[1;33m(\u001b[0m\u001b[0mcasted_key\u001b[0m\u001b[1;33m)\u001b[0m\u001b[1;33m\u001b[0m\u001b[1;33m\u001b[0m\u001b[0m\n\u001b[0;32m   3081\u001b[0m             \u001b[1;32mexcept\u001b[0m \u001b[0mKeyError\u001b[0m \u001b[1;32mas\u001b[0m \u001b[0merr\u001b[0m\u001b[1;33m:\u001b[0m\u001b[1;33m\u001b[0m\u001b[1;33m\u001b[0m\u001b[0m\n\u001b[1;32m-> 3082\u001b[1;33m                 \u001b[1;32mraise\u001b[0m \u001b[0mKeyError\u001b[0m\u001b[1;33m(\u001b[0m\u001b[0mkey\u001b[0m\u001b[1;33m)\u001b[0m \u001b[1;32mfrom\u001b[0m \u001b[0merr\u001b[0m\u001b[1;33m\u001b[0m\u001b[1;33m\u001b[0m\u001b[0m\n\u001b[0m\u001b[0;32m   3083\u001b[0m \u001b[1;33m\u001b[0m\u001b[0m\n\u001b[0;32m   3084\u001b[0m         \u001b[1;32mif\u001b[0m \u001b[0mtolerance\u001b[0m \u001b[1;32mis\u001b[0m \u001b[1;32mnot\u001b[0m \u001b[1;32mNone\u001b[0m\u001b[1;33m:\u001b[0m\u001b[1;33m\u001b[0m\u001b[1;33m\u001b[0m\u001b[0m\n",
      "\u001b[1;31mKeyError\u001b[0m: 'COVID-19_careplans'"
     ]
    }
   ],
   "source": [
    "def extract_high_correlation_features(data, target_column, threshold=1.1):\n",
    "    # Calculate correlation matrix\n",
    "    correlation_matrix = data.corr()\n",
    "    # Extract features with correlation above the threshold\n",
    "    high_corr_features = correlation_matrix[target_column][correlation_matrix[target_column] >= threshold].index.tolist()\n",
    "    return high_corr_features\n",
    "\n",
    "\n",
    "# Extract high correlation features\n",
    "high_corr_features = extract_high_correlation_features(merged_data, target_column='COVID-19_careplans', threshold=1.0)\n",
    "print(\"Highly correlated features with COVID-19_careplans:\", high_corr_features)\n"
   ]
  }
 ],
 "metadata": {
  "kernelspec": {
   "display_name": "base",
   "language": "python",
   "name": "python3"
  },
  "language_info": {
   "codemirror_mode": {
    "name": "ipython",
    "version": 3
   },
   "file_extension": ".py",
   "mimetype": "text/x-python",
   "name": "python",
   "nbconvert_exporter": "python",
   "pygments_lexer": "ipython3",
   "version": "3.8.8"
  }
 },
 "nbformat": 4,
 "nbformat_minor": 2
}
